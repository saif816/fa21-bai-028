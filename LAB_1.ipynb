{
  "nbformat": 4,
  "nbformat_minor": 0,
  "metadata": {
    "colab": {
      "provenance": [],
      "collapsed_sections": [],
      "name": "LAB 1.ipynb",
      "authorship_tag": "ABX9TyMFyi6ca9A2mirssCqBBR3f",
      "include_colab_link": true
    },
    "kernelspec": {
      "name": "python3",
      "display_name": "Python 3"
    },
    "language_info": {
      "name": "python"
    }
  },
  "cells": [
    {
      "cell_type": "markdown",
      "metadata": {
        "id": "view-in-github",
        "colab_type": "text"
      },
      "source": [
        "<a href=\"https://colab.research.google.com/github/saif816/fa21-bai-028/blob/main/LAB_1.ipynb\" target=\"_parent\"><img src=\"https://colab.research.google.com/assets/colab-badge.svg\" alt=\"Open In Colab\"/></a>"
      ]
    },
    {
      "cell_type": "code",
      "source": [
        "\n",
        "sum = 0\n",
        "s=input(\" enter a number\")\n",
        "n=int(s)\n",
        "while n!=0:\n",
        "    sum=sum+n\n",
        "    s=input(\"enter a number \")\n",
        "    n=int(s)\n",
        "print(\"Sum of number is  \",sum)\n"
      ],
      "metadata": {
        "colab": {
          "base_uri": "https://localhost:8080/"
        },
        "id": "eEIuLvTY9l1O",
        "outputId": "4436d415-c69a-48e6-fad7-a5cba54b90c7"
      },
      "execution_count": null,
      "outputs": [
        {
          "output_type": "stream",
          "name": "stdout",
          "text": [
            " enter a number1\n",
            "enter a number 2\n",
            "enter a number 3\n",
            "enter a number 4\n",
            "enter a number 0\n",
            "Sum of number is   10\n"
          ]
        }
      ]
    },
    {
      "cell_type": "code",
      "source": [
        "\n",
        "summation = 0\n",
        "i = 1\n",
        "while i<=10:\n",
        "    summation=summation+i\n",
        "    i=i+1\n",
        "print(\"sum is \",summation)\n"
      ],
      "metadata": {
        "colab": {
          "base_uri": "https://localhost:8080/"
        },
        "id": "_ZAxR1Ux9nHQ",
        "outputId": "f22669f5-a6b7-4d42-fe83-25fc21831659"
      },
      "execution_count": null,
      "outputs": [
        {
          "output_type": "stream",
          "name": "stdout",
          "text": [
            "sum is  55\n"
          ]
        }
      ]
    },
    {
      "cell_type": "code",
      "source": [
        "\n",
        "name = input(\"What is your name?\")\n",
        "print(\"Hello \"+name)\n",
        "\n",
        "job = input(\"What is your job?\")\n",
        "print(\"Your job is \"+job)\n",
        "\n",
        "num = input(\"Give me your number\")\n",
        "print(\"You said: \"+str(num))\n"
      ],
      "metadata": {
        "colab": {
          "base_uri": "https://localhost:8080/"
        },
        "id": "3RSHSWUQ9ngo",
        "outputId": "379e3a44-add6-43f9-c4a4-2313c3677507"
      },
      "execution_count": null,
      "outputs": [
        {
          "output_type": "stream",
          "name": "stdout",
          "text": [
            "What is your name?s\n",
            "Hello s\n",
            "What is your job?s\n",
            "Your job is s\n",
            "Give me your number1\n",
            "You said: 1\n"
          ]
        }
      ]
    },
    {
      "cell_type": "code",
      "source": [
        "import random\n",
        "Minimum = 1\n",
        "Maximum = 9\n",
        "Number = random.randint(Minimum, Maximum)\n",
        "Guess = None\n",
        "Try = 0\n",
        "Running = True\n",
        "\n",
        "print(\"Alright...\")\n",
        "\n",
        "while Running:\n",
        "    Guess= int(input(\"What is your lucky number? \"))\n",
        "    if int(Guess)<Number:\n",
        "        print(\"Wrong, too low.\")\n",
        "    elif int(Guess) > Number:\n",
        "        print(\"Wrong, too high\")\n",
        "    elif Guess.lower() == \"exit\":\n",
        "        print(\"Better luck next time.\")\n",
        "    elif int(Guess) == Number:\n",
        "        print(\"Yes, that's the one, %s.\" %str(Number))\n",
        "        if Try<2:\n",
        "            print(\"Impressive, only %s tries.\"%str(Try))\n",
        "        elif Try<2 and Try<10:\n",
        "            print(\"Pretty good, %s tries.\" %str(Try))\n",
        "        elif Try>2 and Try<10:\n",
        "            print(\"Pretty good, %s tries.\"%str (Try))\n",
        "        else:\n",
        "            print(\"Bad, %s tries.\"%str(Try))\n",
        "        Running=False\n",
        "    Try+=1\n"
      ],
      "metadata": {
        "colab": {
          "base_uri": "https://localhost:8080/",
          "height": 721
        },
        "id": "-om1ULAB9nzI",
        "outputId": "48d83fd9-e2f4-4e57-f495-907aebebebec"
      },
      "execution_count": null,
      "outputs": [
        {
          "name": "stdout",
          "output_type": "stream",
          "text": [
            "Alright...\n",
            "What is your lucky number? 44\n",
            "Wrong, too high\n",
            "What is your lucky number? 2\n",
            "Wrong, too low.\n",
            "What is your lucky number? 44\n",
            "Wrong, too high\n",
            "What is your lucky number? 1\n",
            "Wrong, too low.\n",
            "What is your lucky number? 1\n",
            "Wrong, too low.\n",
            "What is your lucky number? 1\n",
            "Wrong, too low.\n",
            "What is your lucky number? 0\n",
            "Wrong, too low.\n",
            "What is your lucky number? 54\n",
            "Wrong, too high\n",
            "What is your lucky number? 13\n",
            "Wrong, too high\n",
            "What is your lucky number? 6\n",
            "Wrong, too high\n",
            "What is your lucky number? 7\n",
            "Wrong, too high\n",
            "What is your lucky number? 2\n",
            "Wrong, too low.\n",
            "What is your lucky number? 3\n",
            "Wrong, too low.\n",
            "What is your lucky number? 4\n"
          ]
        },
        {
          "output_type": "error",
          "ename": "AttributeError",
          "evalue": "ignored",
          "traceback": [
            "\u001b[0;31m---------------------------------------------------------------------------\u001b[0m",
            "\u001b[0;31mAttributeError\u001b[0m                            Traceback (most recent call last)",
            "\u001b[0;32m<ipython-input-17-931333db9f21>\u001b[0m in \u001b[0;36m<module>\u001b[0;34m\u001b[0m\n\u001b[1;32m     15\u001b[0m     \u001b[0;32melif\u001b[0m \u001b[0mint\u001b[0m\u001b[0;34m(\u001b[0m\u001b[0mGuess\u001b[0m\u001b[0;34m)\u001b[0m \u001b[0;34m>\u001b[0m \u001b[0mNumber\u001b[0m\u001b[0;34m:\u001b[0m\u001b[0;34m\u001b[0m\u001b[0;34m\u001b[0m\u001b[0m\n\u001b[1;32m     16\u001b[0m         \u001b[0mprint\u001b[0m\u001b[0;34m(\u001b[0m\u001b[0;34m\"Wrong, too high\"\u001b[0m\u001b[0;34m)\u001b[0m\u001b[0;34m\u001b[0m\u001b[0;34m\u001b[0m\u001b[0m\n\u001b[0;32m---> 17\u001b[0;31m     \u001b[0;32melif\u001b[0m \u001b[0mGuess\u001b[0m\u001b[0;34m.\u001b[0m\u001b[0mlower\u001b[0m\u001b[0;34m(\u001b[0m\u001b[0;34m)\u001b[0m \u001b[0;34m==\u001b[0m \u001b[0;34m\"exit\"\u001b[0m\u001b[0;34m:\u001b[0m\u001b[0;34m\u001b[0m\u001b[0;34m\u001b[0m\u001b[0m\n\u001b[0m\u001b[1;32m     18\u001b[0m         \u001b[0mprint\u001b[0m\u001b[0;34m(\u001b[0m\u001b[0;34m\"Better luck next time.\"\u001b[0m\u001b[0;34m)\u001b[0m\u001b[0;34m\u001b[0m\u001b[0;34m\u001b[0m\u001b[0m\n\u001b[1;32m     19\u001b[0m     \u001b[0;32melif\u001b[0m \u001b[0mint\u001b[0m\u001b[0;34m(\u001b[0m\u001b[0mGuess\u001b[0m\u001b[0;34m)\u001b[0m \u001b[0;34m==\u001b[0m \u001b[0mNumber\u001b[0m\u001b[0;34m:\u001b[0m\u001b[0;34m\u001b[0m\u001b[0;34m\u001b[0m\u001b[0m\n",
            "\u001b[0;31mAttributeError\u001b[0m: 'int' object has no attribute 'lower'"
          ]
        }
      ]
    },
    {
      "cell_type": "code",
      "source": [
        "\n",
        "isPrime = True\n",
        "i=2\n",
        "n=int(input(\"Enter a number: \"))\n",
        "while i<n:\n",
        "    if n==0:\n",
        "        isPrime = False\n",
        "        break\n",
        "    else:\n",
        "        i=i+1\n",
        "if isPrime:\n",
        "    print(\"Number is Prime\")\n",
        "else:\n",
        "    print(\"Number is not Prime\")\n",
        "\n"
      ],
      "metadata": {
        "colab": {
          "base_uri": "https://localhost:8080/"
        },
        "id": "4dALkwRJ9oQX",
        "outputId": "bd224787-f4c7-4bc6-fd9b-2cbf7f4f101f"
      },
      "execution_count": null,
      "outputs": [
        {
          "output_type": "stream",
          "name": "stdout",
          "text": [
            "Enter a number: 0\n",
            "Number is Prime\n"
          ]
        }
      ]
    },
    {
      "cell_type": "code",
      "source": [
        "\n",
        "##reverswd\n",
        "n=int(input(\"A number\"))\n",
        "print(str(n)[::-1])\n"
      ],
      "metadata": {
        "colab": {
          "base_uri": "https://localhost:8080/"
        },
        "id": "jNcr8DOS-cAB",
        "outputId": "ad9840ea-a7a2-4689-bdaf-4a2e39711283"
      },
      "execution_count": null,
      "outputs": [
        {
          "output_type": "stream",
          "name": "stdout",
          "text": [
            "A number1234\n",
            "4321\n"
          ]
        }
      ]
    },
    {
      "cell_type": "code",
      "source": [
        "n=int(input(\"number for checking grade\"))\n",
        "if (n)<0 & (n)>100:\n",
        "    print(\"the number enter is out of bound\")\n",
        "elif (n)<50:\n",
        "    print(\"F\")\n",
        "elif (n)>=50&(n)>=60:\n",
        "    print(\"E\")  \n",
        "elif (n)>=61&(n)>=70:\n",
        "    print(\"D\")\n",
        "elif (n)>=71&(n)>=80:\n",
        "    print(\"C\")\n",
        "elif (n)>=81&(n)>=90:\n",
        "    print(\"B\")\n",
        "elif (n)>=91&(n)>=100:\n",
        "    print(\"A\")\n"
      ],
      "metadata": {
        "colab": {
          "base_uri": "https://localhost:8080/"
        },
        "id": "fcpA81UI-dMa",
        "outputId": "0d251387-f546-46c7-8c9a-f89586f9def5"
      },
      "execution_count": null,
      "outputs": [
        {
          "output_type": "stream",
          "name": "stdout",
          "text": [
            "number for checking grade46\n",
            "F\n"
          ]
        }
      ]
    },
    {
      "cell_type": "code",
      "source": [
        "\n",
        "#factorial\n",
        "num = int(input(\"Enter a number\"))\n",
        "factorial = 1\n",
        "if num<0:\n",
        "    print(\"No factorial Exists\")\n",
        "elif num ==0:\n",
        "    print(\"The factorial of zero is 1\")\n",
        "else:\n",
        "    for i in range(1,num+1):\n",
        "        factorial = factorial*i\n",
        "    print(\"The factorial of \",num,\" is \",factorial)\n"
      ],
      "metadata": {
        "colab": {
          "base_uri": "https://localhost:8080/"
        },
        "id": "sB6w9qzK-0pf",
        "outputId": "e1f66336-ffe0-4fc7-86e5-9650daac7b54"
      },
      "execution_count": null,
      "outputs": [
        {
          "output_type": "stream",
          "name": "stdout",
          "text": [
            "Enter a number3\n",
            "The factorial of  3  is  6\n"
          ]
        }
      ]
    },
    {
      "cell_type": "code",
      "source": [
        "\n",
        "#fibonacci\n",
        "def fibonacci(n):\n",
        "    if(n <= 1):\n",
        "        return name\n",
        "    else: \n",
        "        return(fibonacci(n-1) + fibonacci(n-2))\n",
        "n = int(input(\"Enter number of terms: \"))\n",
        "print(\"Fibonacci sequence: \")\n",
        "for i in range(n):\n",
        "    print(fibonacci(i))"
      ],
      "metadata": {
        "colab": {
          "base_uri": "https://localhost:8080/"
        },
        "id": "E3DMTq3w-2G_",
        "outputId": "24e136ba-7337-4b39-90b7-aa3d885137b7"
      },
      "execution_count": null,
      "outputs": [
        {
          "output_type": "stream",
          "name": "stdout",
          "text": [
            "Enter number of terms: 2\n",
            "Fibonacci sequence: \n",
            "s\n",
            "s\n"
          ]
        }
      ]
    },
    {
      "cell_type": "code",
      "source": [],
      "metadata": {
        "id": "Z1PB442OJetx"
      },
      "execution_count": null,
      "outputs": []
    },
    {
      "cell_type": "code",
      "source": [],
      "metadata": {
        "id": "8x_nItP6tXIW"
      },
      "execution_count": null,
      "outputs": []
    },
    {
      "cell_type": "code",
      "source": [],
      "metadata": {
        "id": "SsxK92Em3MAp"
      },
      "execution_count": null,
      "outputs": []
    }
  ]
}