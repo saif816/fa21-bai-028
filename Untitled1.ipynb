{
  "nbformat": 4,
  "nbformat_minor": 0,
  "metadata": {
    "colab": {
      "provenance": [],
      "collapsed_sections": []
    },
    "kernelspec": {
      "name": "python3",
      "display_name": "Python 3"
    },
    "language_info": {
      "name": "python"
    }
  },
  "cells": [
    {
      "cell_type": "code",
      "execution_count": null,
      "metadata": {
        "colab": {
          "base_uri": "https://localhost:8080/"
        },
        "id": "4ecRreqy44QM",
        "outputId": "2c41f793-7bf0-4556-aa83-b355655f36f2"
      },
      "outputs": [
        {
          "output_type": "stream",
          "name": "stdout",
          "text": [
            "sas\n"
          ]
        }
      ],
      "source": [
        "print(\"sas\")"
      ]
    },
    {
      "cell_type": "code",
      "source": [
        "import random\n",
        "i=15\n",
        "for i in range(10):\n",
        "  x=random.randint(5,40)\n",
        "  print(x)"
      ],
      "metadata": {
        "colab": {
          "base_uri": "https://localhost:8080/"
        },
        "id": "FNReTc5881Bb",
        "outputId": "1c024eb4-206e-48b2-ad32-630a0a5d8e63"
      },
      "execution_count": null,
      "outputs": [
        {
          "output_type": "stream",
          "name": "stdout",
          "text": [
            "30\n",
            "6\n",
            "5\n",
            "39\n",
            "37\n",
            "34\n",
            "28\n",
            "26\n",
            "10\n",
            "26\n"
          ]
        }
      ]
    },
    {
      "cell_type": "code",
      "source": [
        "import random\n",
        "x=[1,2,3]\n",
        "y=random.choice(x)\n",
        "print(y)"
      ],
      "metadata": {
        "colab": {
          "base_uri": "https://localhost:8080/"
        },
        "id": "LeLcc-DK91e_",
        "outputId": "2ba999e9-8b9f-40a6-923d-e8c885291872"
      },
      "execution_count": null,
      "outputs": [
        {
          "output_type": "stream",
          "name": "stdout",
          "text": [
            "3\n"
          ]
        }
      ]
    },
    {
      "cell_type": "code",
      "source": [
        "import math\n",
        "math.sqrt(8)\n",
        "print(math.pi)\n",
        "print(\"seyad \"*4)\n",
        "a=\"seyad\"\n",
        "y=a.capitalize()\n",
        "print(y)\n",
        "a.find('b')"
      ],
      "metadata": {
        "colab": {
          "base_uri": "https://localhost:8080/"
        },
        "id": "6D2-Q7tO_Dr_",
        "outputId": "cb5e5131-6fc3-44de-813e-7f42b9019a4f"
      },
      "execution_count": null,
      "outputs": [
        {
          "output_type": "stream",
          "name": "stdout",
          "text": [
            "3.141592653589793\n",
            "seyad seyad seyad seyad \n",
            "Seyad\n"
          ]
        },
        {
          "output_type": "execute_result",
          "data": {
            "text/plain": [
              "-1"
            ]
          },
          "metadata": {},
          "execution_count": 40
        }
      ]
    },
    {
      "cell_type": "code",
      "source": [
        "laptops=3\n",
        "\"I have %d laptops\"%laptops"
      ],
      "metadata": {
        "colab": {
          "base_uri": "https://localhost:8080/",
          "height": 36
        },
        "id": "2096NrvgC0_1",
        "outputId": "45fa72d5-89ab-46c4-e27e-777ab4b626ce"
      },
      "execution_count": null,
      "outputs": [
        {
          "output_type": "execute_result",
          "data": {
            "text/plain": [
              "'I have 3 laptops'"
            ],
            "application/vnd.google.colaboratory.intrinsic+json": {
              "type": "string"
            }
          },
          "metadata": {},
          "execution_count": 48
        }
      ]
    },
    {
      "cell_type": "code",
      "source": [
        "fout=open('output.txt','w')\n",
        "line1=\"sada asdsa dasdas dasd\"\n",
        "fout.write(line1)\n",
        "fout.close()"
      ],
      "metadata": {
        "id": "HYl9VN0NDQcd"
      },
      "execution_count": null,
      "outputs": []
    },
    {
      "cell_type": "code",
      "source": [
        "mlist1=[]\n",
        "print(\"enter a number for list 1\")\n",
        "for i in range(5):\n",
        "  a=input(\"number\")\n",
        "  n=a\n",
        "  mlist1.append(n)\n",
        "\n",
        "\n",
        "mlist2=[]\n",
        "print(\"enter a number for list 1\")\n",
        "for i in range(5):\n",
        "  a=input(\"number\")\n",
        "  n=a\n",
        "  mlist2.append(n)\n",
        "\n",
        "list3=\n",
        "mlist1+mlist2\n",
        "\n",
        "\n",
        "\n",
        "\n",
        "\n",
        "\n",
        "\n",
        "\n",
        "\n",
        "\n"
      ],
      "metadata": {
        "id": "YXtTK5AoOQVm"
      },
      "execution_count": null,
      "outputs": []
    },
    {
      "cell_type": "code",
      "source": [
        "def inpalodrom(word):\n",
        "  temp=word[::-1]\n",
        "  if temp.captalize=word.captalize:\n",
        "    return true\n",
        "  else:\n",
        "    return false  \n",
        "print(inpalodrom(\"dead\"))"
      ],
      "metadata": {
        "id": "ajVS0VgTRZKG"
      },
      "execution_count": null,
      "outputs": []
    },
    {
      "cell_type": "code",
      "source": [
        "a=[1,2,3,4]\n",
        "b=[4,5,6,7]\n",
        "c=[]\n",
        "\n",
        "for indrow in range(3):\n",
        "  c.append([])\n",
        "  for indrow1 in range(3):\n",
        "    c(indrow).append(0) \n",
        "    for indrow11 in range(3):\n",
        "      c[indrow ][indrow1]+=b[indrow ][indrow11]*a[indrow1][indrow11]"
      ],
      "metadata": {
        "id": "m63rr_nQP6vZ",
        "colab": {
          "base_uri": "https://localhost:8080/",
          "height": 244
        },
        "outputId": "6565d6f3-94bb-49f5-c3be-48101dd5c804"
      },
      "execution_count": null,
      "outputs": [
        {
          "output_type": "error",
          "ename": "TypeError",
          "evalue": "ignored",
          "traceback": [
            "\u001b[0;31m---------------------------------------------------------------------------\u001b[0m",
            "\u001b[0;31mTypeError\u001b[0m                                 Traceback (most recent call last)",
            "\u001b[0;32m<ipython-input-2-93b42a03e5fc>\u001b[0m in \u001b[0;36m<module>\u001b[0;34m\u001b[0m\n\u001b[1;32m      6\u001b[0m   \u001b[0mc\u001b[0m\u001b[0;34m.\u001b[0m\u001b[0mappend\u001b[0m\u001b[0;34m(\u001b[0m\u001b[0;34m[\u001b[0m\u001b[0;34m]\u001b[0m\u001b[0;34m)\u001b[0m\u001b[0;34m\u001b[0m\u001b[0;34m\u001b[0m\u001b[0m\n\u001b[1;32m      7\u001b[0m   \u001b[0;32mfor\u001b[0m \u001b[0mindrow1\u001b[0m \u001b[0;32min\u001b[0m \u001b[0mrange\u001b[0m\u001b[0;34m(\u001b[0m\u001b[0;36m3\u001b[0m\u001b[0;34m)\u001b[0m\u001b[0;34m:\u001b[0m\u001b[0;34m\u001b[0m\u001b[0;34m\u001b[0m\u001b[0m\n\u001b[0;32m----> 8\u001b[0;31m     \u001b[0mc\u001b[0m\u001b[0;34m(\u001b[0m\u001b[0mindrow\u001b[0m\u001b[0;34m)\u001b[0m\u001b[0;34m.\u001b[0m\u001b[0mappend\u001b[0m\u001b[0;34m(\u001b[0m\u001b[0;36m0\u001b[0m\u001b[0;34m)\u001b[0m\u001b[0;34m\u001b[0m\u001b[0;34m\u001b[0m\u001b[0m\n\u001b[0m\u001b[1;32m      9\u001b[0m     \u001b[0;32mfor\u001b[0m \u001b[0mindrow11\u001b[0m \u001b[0;32min\u001b[0m \u001b[0mrange\u001b[0m\u001b[0;34m(\u001b[0m\u001b[0;36m3\u001b[0m\u001b[0;34m)\u001b[0m\u001b[0;34m:\u001b[0m\u001b[0;34m\u001b[0m\u001b[0;34m\u001b[0m\u001b[0m\n\u001b[1;32m     10\u001b[0m       \u001b[0mc\u001b[0m\u001b[0;34m[\u001b[0m\u001b[0mindrow\u001b[0m \u001b[0;34m]\u001b[0m\u001b[0;34m[\u001b[0m\u001b[0mindrow1\u001b[0m\u001b[0;34m]\u001b[0m\u001b[0;34m+=\u001b[0m\u001b[0mb\u001b[0m\u001b[0;34m[\u001b[0m\u001b[0mindrow\u001b[0m \u001b[0;34m]\u001b[0m\u001b[0;34m[\u001b[0m\u001b[0mindrow11\u001b[0m\u001b[0;34m]\u001b[0m\u001b[0;34m*\u001b[0m\u001b[0ma\u001b[0m\u001b[0;34m[\u001b[0m\u001b[0mindrow1\u001b[0m\u001b[0;34m]\u001b[0m\u001b[0;34m[\u001b[0m\u001b[0mindrow11\u001b[0m\u001b[0;34m]\u001b[0m\u001b[0;34m\u001b[0m\u001b[0;34m\u001b[0m\u001b[0m\n",
            "\u001b[0;31mTypeError\u001b[0m: 'list' object is not callable"
          ]
        }
      ]
    },
    {
      "cell_type": "code",
      "source": [
        "def paramiter(litening):\n",
        "  laug=len(litening)\n",
        "  paramiter=0\n",
        "  for i in range(0,laug-1):\n",
        "    dist=((litening[i][0]-litening[i+1][0]**2)+\n",
        "          (litening[i][1]-litening[i+1][1]**2))**0.5\n",
        "    paramiter=paramiter+dist\n",
        "    paramiter=paramiter+ ((litening[0][0]-litening[laug-1][0]**2)\n",
        "          +(litening[0][1]-litening[laug-1][1]**2))**0.5\n",
        "    return paramiter\n",
        "l=[(1,2),(3,5),(6,7),(-1,8)]\n",
        "print(paramiter(l))"
      ],
      "metadata": {
        "colab": {
          "base_uri": "https://localhost:8080/"
        },
        "id": "LfrO64QITkzB",
        "outputId": "d91072aa-89a3-49d7-9b93-2430f6ca966f"
      },
      "execution_count": null,
      "outputs": [
        {
          "output_type": "stream",
          "name": "stdout",
          "text": [
            "(8.230711672358053e-16+13.441772236841832j)\n"
          ]
        }
      ]
    },
    {
      "cell_type": "code",
      "source": [
        "\n",
        "def symdiff(a,b):\n",
        "  e=set()\n",
        "  for i in a:\n",
        "    if i not in b:\n",
        "      e.add(i)\n",
        "  for i in a:\n",
        "    if i not in a:\n",
        "      e.add(i)\n",
        "\n",
        "      return e\n",
        "set_A = {1, 2, 3, 4, 5}\n",
        "set_B = {6, 7, 3, 9, 4}\n",
        "\n",
        "print(symdiff(set_A,set_B))\n",
        "\n",
        "print(set_A.symmetric_difference(set_B))      \n",
        "print(set_B.symmetric_difference(set_A))\n",
        "print(set_A^set_B) \n",
        "print(set_B^set_A)\n",
        "\n",
        "\n"
      ],
      "metadata": {
        "colab": {
          "base_uri": "https://localhost:8080/"
        },
        "id": "1FWStsrbWZ8j",
        "outputId": "2cb9b5e9-5ee7-428a-b5ff-ba1973a8bd5b"
      },
      "execution_count": null,
      "outputs": [
        {
          "output_type": "stream",
          "name": "stdout",
          "text": [
            "None\n",
            "{1, 2, 5, 6, 7, 9}\n",
            "{1, 2, 5, 6, 7, 9}\n",
            "{1, 2, 5, 6, 7, 9}\n",
            "{1, 2, 5, 6, 7, 9}\n"
          ]
        }
      ]
    },
    {
      "cell_type": "code",
      "source": [
        "sample={(\"sohain\",\"ali\"):\"01233475\",\n",
        "(\"sohaskalkin\",\"ai\"):\"01233475\",\n",
        "(\"sSAohain\",\"SSSali\"):\"01233475\",\n",
        "}\n",
        "firstname=input(\"input name\")\n",
        "lastname=input(\"input name\")\n",
        "searchtuple=(firstname,lastname)\n",
        "if searchtuple in sample:\n",
        "  print(sample(searchtuple))\n",
        "else:\n",
        "  print (\"not found\")  "
      ],
      "metadata": {
        "colab": {
          "base_uri": "https://localhost:8080/"
        },
        "id": "jNlq8hz6X4EH",
        "outputId": "c75553c3-ec33-4c9d-d5e1-d71edfe85de9"
      },
      "execution_count": null,
      "outputs": [
        {
          "output_type": "stream",
          "name": "stdout",
          "text": [
            "input namesohain\n",
            "input namesohain\n",
            "not found\n"
          ]
        }
      ]
    },
    {
      "cell_type": "code",
      "source": [
        "\n",
        "lst1 = []\n",
        "lst2 = []\n",
        "lst3= []\n",
        "\n",
        " \n",
        "n = int(input(\"Enter size of list  : \"))\n",
        " \n",
        "for i in range(0, n):\n",
        "    element = int(input(\"Enter a number in list 1 :-\"))\n",
        " \n",
        "    lst1.append(element) \n",
        "     \n",
        "print(\"List 1 is :-\"+str(lst1))\n",
        "\n",
        " \n",
        "for i in range(0, n):\n",
        "    element2 = int(input(\"Enter a number in list 2 :-\"))\n",
        " \n",
        "    lst2.append(element2) \n",
        "     \n",
        "print(\"List 2 elements are :-\"+str(lst2))\n",
        "\n",
        "lst3=lst1+lst2\n",
        "print(\"list 3\"+str(lst3))\n",
        "a=max(lst3)\n",
        "b=min(lst3)\n",
        "print(\"maximum element in list\"+str(a))\n",
        "print(\"minimum element in list\"+str(b))\n",
        "\n"
      ],
      "metadata": {
        "id": "qwqkvMs3xt4e"
      },
      "execution_count": null,
      "outputs": []
    },
    {
      "cell_type": "code",
      "source": [
        "birthday_dictionary={\"saif\":\"13/06\",\"moiz\":\"31/07\",\"mian\":\"10/10\"}\n",
        "print(\"We knaow the birthdays of\",birthday_dictionary.keys())\n",
        "name=input(\"Who's birthday do you want to look up?\")\n",
        "print(name,\"'s bday is on\",birthday_dictionary[name])"
      ],
      "metadata": {
        "colab": {
          "base_uri": "https://localhost:8080/"
        },
        "id": "bk68Dfpu6uP2",
        "outputId": "faf72ae2-88df-449a-9dfc-d0809c063b75"
      },
      "execution_count": null,
      "outputs": [
        {
          "output_type": "stream",
          "name": "stdout",
          "text": [
            "We knaow the birthdays of dict_keys(['saif', 'moiz', 'mian'])\n",
            "Who's birthday do you want to look up?saif\n",
            "saif 's bday is on 13/06\n"
          ]
        }
      ]
    },
    {
      "cell_type": "code",
      "source": [
        "contact_items =[{'name': ['saif'],\n",
        "                 'age': ['25'],\n",
        "                 \"city\": [\"New york\"],\n",
        "                 'salary': [1000]}]\n",
        "\n",
        "\n",
        "\n",
        "\n",
        "\n",
        "[{'name': ['saif'],\n",
        "                 'salary': [1000]}]\n",
        "\n",
        "list1 = ''\n",
        "list2 = ''\n",
        "list3 = []\n",
        "test_dict = {}\n",
        "\n",
        "for item in contact_items:\n",
        "    list1 = item['name']\n",
        "    list2 = item['salary']\n",
        "\n",
        "test_dict = {}\n",
        "\n",
        "for k in list1:\n",
        "    for l in list2:\n",
        "        test_dict['name'] = k\n",
        "        test_dict['salary'] = l\n",
        "        list3.append(test_dict)\n",
        "\n",
        "print(list3)"
      ],
      "metadata": {
        "id": "WvBZll6b7CrI",
        "colab": {
          "base_uri": "https://localhost:8080/"
        },
        "outputId": "e7f03d02-3fe4-42e5-a811-a8d5ec3ff8cf"
      },
      "execution_count": null,
      "outputs": [
        {
          "output_type": "stream",
          "name": "stdout",
          "text": [
            "[{'name': 'saif', 'salary': 1000}]\n"
          ]
        }
      ]
    },
    {
      "cell_type": "code",
      "source": [
        "from sympy.functions.special.spherical_harmonics import Ynm\n",
        "from sympy.functions import yn\n",
        "from sympy.algebras.quaternion import cos\n",
        "from sympy import sin\n",
        "import math\n",
        "\n",
        "def pii(a):\n",
        "  x=0.001\n",
        "  s=sin(x)\n",
        "  y=cos(x)\n",
        "  s=y\n",
        "  z=y\n",
        "\n",
        "\n",
        "  \n",
        "  \n",
        "print(pii(z))\n",
        "\n",
        "  \n",
        "\n",
        "\n"
      ],
      "metadata": {
        "colab": {
          "base_uri": "https://localhost:8080/"
        },
        "id": "WfB6hcWS_8FY",
        "outputId": "e6f07f64-a3dd-4617-c907-81039079180e"
      },
      "execution_count": null,
      "outputs": [
        {
          "output_type": "stream",
          "name": "stdout",
          "text": [
            "None\n"
          ]
        }
      ]
    },
    {
      "cell_type": "code",
      "source": [
        "a=2\n",
        "v=9\n",
        "z=(a=v)\n",
        "print(z)"
      ],
      "metadata": {
        "colab": {
          "base_uri": "https://localhost:8080/"
        },
        "id": "CqLK-kAMGRgs",
        "outputId": "1259e5e5-a434-4cf6-93f1-4491540ff5e7"
      },
      "execution_count": null,
      "outputs": [
        {
          "output_type": "stream",
          "name": "stdout",
          "text": [
            "9\n"
          ]
        }
      ]
    }
  ]
}